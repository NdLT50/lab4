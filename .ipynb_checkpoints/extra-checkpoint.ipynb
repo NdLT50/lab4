{
 "cells": [
  {
   "cell_type": "code",
   "execution_count": 13,
   "metadata": {},
   "outputs": [
    {
     "name": "stdout",
     "output_type": "stream",
     "text": [
      "\n",
      "Before 01.02.2017\n",
      "==================================================\n",
      "DN                                                 Speed      MTU  \n",
      "--------------------------------------------------\n",
      "topology/pod-1/node-201/sys/phys-[eth1/33]         inherit    9150 \n",
      "topology/pod-1/node-201/sys/phys-[eth1/34]         inherit    9150 \n",
      "topology/pod-1/node-201/sys/phys-[eth1/35]         inherit    9150 \n",
      "topology/pod-1/node-201/sys/phys-[eth1/36]         inherit    9150 \n",
      "topology/pod-1/node-201/sys/phys-[eth1/5]          inherit    9150 \n",
      "topology/pod-1/node-201/sys/phys-[eth1/6]          inherit    9150 \n",
      "topology/pod-1/node-201/sys/phys-[eth1/7]          inherit    9150 \n",
      "topology/pod-1/node-201/sys/phys-[eth1/8]          inherit    9150 \n",
      "topology/pod-1/node-201/sys/phys-[eth1/9]          inherit    9150 \n",
      "topology/pod-1/node-201/sys/phys-[eth1/10]         inherit    9150 \n",
      "topology/pod-1/node-201/sys/phys-[eth1/11]         inherit    9150 \n",
      "topology/pod-1/node-201/sys/phys-[eth1/12]         inherit    9150 \n",
      "topology/pod-1/node-201/sys/phys-[eth1/13]         inherit    9150 \n",
      "topology/pod-1/node-201/sys/phys-[eth1/14]         inherit    9150 \n",
      "\n",
      "On or After 01.02.2017\n",
      "==================================================\n",
      "DN                                                 Speed      MTU  \n",
      "--------------------------------------------------\n",
      "topology/pod-1/node-201/sys/phys-[eth1/1]          inherit    9150 \n",
      "topology/pod-1/node-201/sys/phys-[eth1/2]          inherit    9150 \n",
      "topology/pod-1/node-201/sys/phys-[eth1/3]          inherit    9150 \n",
      "topology/pod-1/node-201/sys/phys-[eth1/4]          inherit    9150 \n"
     ]
    }
   ],
   "source": [
    "import json\n",
    "from datetime import datetime\n",
    "with open(\"sample-data.json\", \"r\") as file:\n",
    "    data = json.load(file)\n",
    "interfaces = data.get(\"imdata\", [])\n",
    "date = datetime.strptime(\"01.02.2017\", \"%d.%m.%Y\")\n",
    "before = []\n",
    "after = []\n",
    "\n",
    "for item in interfaces:\n",
    "    attributes = item.get(\"l1PhysIf\", {}).get(\"attributes\", {})\n",
    "    mod_ts = attributes.get(\"modTs\", \"\")\n",
    "    \n",
    "    if mod_ts:\n",
    "        item_date = datetime.strptime(mod_ts[:10], \"%Y-%m-%d\")\n",
    "        if item_date < date:\n",
    "            before.append(attributes)\n",
    "        else:\n",
    "            after.append(attributes)\n",
    "def print_table(title, dataset):\n",
    "    print(f\"\\n{title}\")\n",
    "    print(\"=\" * 50)\n",
    "    print(f\"{'DN':<50} {'Speed':<10} {'MTU':<5}\")\n",
    "    print(\"-\" * 50)\n",
    "    for entry in dataset:\n",
    "        print(f\"{entry.get('dn', 'N/A'):<50} {entry.get('speed', 'N/A'):<10} {entry.get('mtu', 'N/A'):<5}\")\n",
    "print_table(\"Before 01.02.2017\", before)\n",
    "print_table(\"On or After 01.02.2017\", after)\n"
   ]
  }
 ],
 "metadata": {
  "kernelspec": {
   "display_name": "base",
   "language": "python",
   "name": "python3"
  },
  "language_info": {
   "codemirror_mode": {
    "name": "ipython",
    "version": 3
   },
   "file_extension": ".py",
   "mimetype": "text/x-python",
   "name": "python",
   "nbconvert_exporter": "python",
   "pygments_lexer": "ipython3",
   "version": "3.11.4"
  }
 },
 "nbformat": 4,
 "nbformat_minor": 2
}
