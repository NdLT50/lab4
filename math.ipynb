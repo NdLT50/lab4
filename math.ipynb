{
 "cells": [
  {
   "cell_type": "code",
   "execution_count": 1,
   "metadata": {},
   "outputs": [
    {
     "name": "stdout",
     "output_type": "stream",
     "text": [
      "50\n",
      "Input degree: 50\n",
      "Output radian: 0.872665\n"
     ]
    }
   ],
   "source": [
    "import math\n",
    "\n",
    "def degrees_to_radians(degrees):\n",
    "    return degrees * (math.pi / 180)\n",
    "\n",
    "degree = int(input())\n",
    "radian = degrees_to_radians(degree)\n",
    "print(f\"Input degree: {degree}\")\n",
    "print(f\"Output radian: {radian:.6f}\")\n"
   ]
  },
  {
   "cell_type": "code",
   "execution_count": 2,
   "metadata": {},
   "outputs": [
    {
     "name": "stdout",
     "output_type": "stream",
     "text": [
      "4\n",
      "4\n",
      "4\n",
      "Height: 4\n",
      "Base, first value: 4\n",
      "Base, second value: 4\n",
      "Expected Output: 16.0\n"
     ]
    }
   ],
   "source": [
    "def trapezoid_area(height, base1, base2):\n",
    "    return 0.5 * (base1 + base2) * height\n",
    "height = int(input())\n",
    "base1 = int(input())\n",
    "base2 = int(input())\n",
    "area = trapezoid_area(height, base1, base2)\n",
    "print(f\"Height: {height}\")\n",
    "print(f\"Base, first value: {base1}\")\n",
    "print(f\"Base, second value: {base2}\")\n",
    "print(f\"Expected Output: {area}\")\n"
   ]
  },
  {
   "cell_type": "code",
   "execution_count": 3,
   "metadata": {},
   "outputs": [
    {
     "name": "stdout",
     "output_type": "stream",
     "text": [
      "4\n",
      "25\n",
      "Input number of sides: 4\n",
      "Input the length of a side: 25\n",
      "The area of the polygon is: 625\n"
     ]
    }
   ],
   "source": [
    "import math\n",
    "\n",
    "def regular_polygon_area(num_sides, side_length):\n",
    "    return (num_sides * side_length ** 2) / (4 * math.tan(math.pi / num_sides))\n",
    "num_sides =int(input())\n",
    "side_length = int(input())\n",
    "area = regular_polygon_area(num_sides, side_length)\n",
    "print(f\"Input number of sides: {num_sides}\")\n",
    "print(f\"Input the length of a side: {side_length}\")\n",
    "print(f\"The area of the polygon is: {area:.0f}\")\n"
   ]
  },
  {
   "cell_type": "code",
   "execution_count": 4,
   "metadata": {},
   "outputs": [
    {
     "name": "stdout",
     "output_type": "stream",
     "text": [
      "4\n",
      "4\n",
      "Length of base: 4\n",
      "Height of parallelogram: 4\n",
      "Expected Output: 16.0\n"
     ]
    }
   ],
   "source": [
    "def parallelogram_area(base, height):\n",
    "    return base * height\n",
    "base = int(input())\n",
    "height =int(input())\n",
    "area = parallelogram_area(base, height)\n",
    "print(f\"Length of base: {base}\")\n",
    "print(f\"Height of parallelogram: {height}\")\n",
    "print(f\"Expected Output: {area:.1f}\")\n"
   ]
  },
  {
   "cell_type": "code",
   "execution_count": null,
   "metadata": {},
   "outputs": [],
   "source": []
  }
 ],
 "metadata": {
  "kernelspec": {
   "display_name": "Python 3 (ipykernel)",
   "language": "python",
   "name": "python3"
  },
  "language_info": {
   "codemirror_mode": {
    "name": "ipython",
    "version": 3
   },
   "file_extension": ".py",
   "mimetype": "text/x-python",
   "name": "python",
   "nbconvert_exporter": "python",
   "pygments_lexer": "ipython3",
   "version": "3.11.4"
  }
 },
 "nbformat": 4,
 "nbformat_minor": 2
}
