{
 "cells": [
  {
   "cell_type": "code",
   "execution_count": 1,
   "metadata": {},
   "outputs": [
    {
     "name": "stdout",
     "output_type": "stream",
     "text": [
      "Interface Status\n",
      "==================================================\n",
      "DN                                                 Description          Speed      MTU  \n",
      "--------------------------------------------------\n",
      "topology/pod-1/node-201/sys/phys-[eth1/33]                              inherit    9150 \n",
      "topology/pod-1/node-201/sys/phys-[eth1/34]                              inherit    9150 \n",
      "topology/pod-1/node-201/sys/phys-[eth1/35]                              inherit    9150 \n",
      "topology/pod-1/node-201/sys/phys-[eth1/36]                              inherit    9150 \n",
      "topology/pod-1/node-201/sys/phys-[eth1/1]                               inherit    9150 \n",
      "topology/pod-1/node-201/sys/phys-[eth1/2]                               inherit    9150 \n",
      "topology/pod-1/node-201/sys/phys-[eth1/3]                               inherit    9150 \n",
      "topology/pod-1/node-201/sys/phys-[eth1/4]                               inherit    9150 \n",
      "topology/pod-1/node-201/sys/phys-[eth1/5]                               inherit    9150 \n",
      "topology/pod-1/node-201/sys/phys-[eth1/6]                               inherit    9150 \n",
      "topology/pod-1/node-201/sys/phys-[eth1/7]                               inherit    9150 \n",
      "topology/pod-1/node-201/sys/phys-[eth1/8]                               inherit    9150 \n",
      "topology/pod-1/node-201/sys/phys-[eth1/9]                               inherit    9150 \n",
      "topology/pod-1/node-201/sys/phys-[eth1/10]                              inherit    9150 \n",
      "topology/pod-1/node-201/sys/phys-[eth1/11]                              inherit    9150 \n",
      "topology/pod-1/node-201/sys/phys-[eth1/12]                              inherit    9150 \n",
      "topology/pod-1/node-201/sys/phys-[eth1/13]                              inherit    9150 \n",
      "topology/pod-1/node-201/sys/phys-[eth1/14]                              inherit    9150 \n"
     ]
    }
   ],
   "source": [
    "import json\n",
    "with open(\"sample-data.json\", \"r\") as file:\n",
    "    data = json.load(file)\n",
    "interfaces = data.get(\"imdata\", [])\n",
    "print(\"Interface Status\")\n",
    "print(\"=\" * 50)\n",
    "print(f\"{'DN':<50} {'Description':<20} {'Speed':<10} {'MTU':<5}\")\n",
    "print(\"-\" * 50)\n",
    "for item in interfaces:\n",
    "    attributes = item.get(\"l1PhysIf\", {}).get(\"attributes\", {})\n",
    "    dn = attributes.get(\"dn\", \"N/A\")\n",
    "    description = attributes.get(\"descr\", \"\")\n",
    "    speed = attributes.get(\"speed\", \"inherit\")\n",
    "    mtu = attributes.get(\"mtu\", \"\")\n",
    "    \n",
    "    print(f\"{dn:<50} {description:<20} {speed:<10} {mtu:<5}\")\n"
   ]
  }
 ],
 "metadata": {
  "kernelspec": {
   "display_name": "base",
   "language": "python",
   "name": "python3"
  },
  "language_info": {
   "codemirror_mode": {
    "name": "ipython",
    "version": 3
   },
   "file_extension": ".py",
   "mimetype": "text/x-python",
   "name": "python",
   "nbconvert_exporter": "python",
   "pygments_lexer": "ipython3",
   "version": "3.11.4"
  }
 },
 "nbformat": 4,
 "nbformat_minor": 2
}
